{
 "cells": [
  {
   "cell_type": "markdown",
   "id": "73f6537a",
   "metadata": {},
   "source": [
    "# Rekognition Custom Labels の APIレスポンスを分析して、最適な閾値を探す方法\n",
    "\n",
    "Amazon Rekognition Custom Labelsのモデルができても、結果の評価が難しいと感じたことはありませんか？Assumed Thresholdsをカスタマイズして、モデルの評価方法を見直す方法をご紹介します。"
   ]
  },
  {
   "cell_type": "markdown",
   "id": "d2765bf1",
   "metadata": {},
   "source": [
    "### モデルの開始\n",
    "\n",
    "モデルを推論エンドポイントとしてデプロイします。課金が分単位で発生 ($4/hr, 2021/12/01現在) するので注意してください。"
   ]
  },
  {
   "cell_type": "code",
   "execution_count": null,
   "id": "37c4c87e",
   "metadata": {},
   "outputs": [],
   "source": [
    "#Copyright 2020 Amazon.com, Inc. or its affiliates. All Rights Reserved.\n",
    "#PDX-License-Identifier: MIT-0 (For details, see https://github.com/awsdocs/amazon-rekognition-custom-labels-developer-guide/blob/master/LICENSE-SAMPLECODE.)\n",
    "\n",
    "import boto3\n",
    "from typing import Dict\n",
    "\n",
    "def start_model(project_arn: str, model_arn: str, version_name: str, min_inference_units: int) -> None:\n",
    "\n",
    "    client=boto3.client('rekognition')\n",
    "\n",
    "    try:\n",
    "        # Start the model\n",
    "        print('Starting model: ' + model_arn)\n",
    "        response=client.start_project_version(ProjectVersionArn=model_arn, MinInferenceUnits=min_inference_units)\n",
    "        # Wait for the model to be in the running state\n",
    "        project_version_running_waiter = client.get_waiter('project_version_running')\n",
    "        project_version_running_waiter.wait(ProjectArn=project_arn, VersionNames=[version_name])\n",
    "\n",
    "        #Get the running status\n",
    "        describe_response=client.describe_project_versions(ProjectArn=project_arn,\n",
    "            VersionNames=[version_name])\n",
    "        for model in describe_response['ProjectVersionDescriptions']:\n",
    "            print(\"Status: \" + model['Status'])\n",
    "            print(\"Message: \" + model['StatusMessage']) \n",
    "    except Exception as e:\n",
    "        print(e)\n",
    "        \n",
    "    print('Done...')\n",
    "    \n",
    "def get_arns(model_arn: str) -> Dict[str, str]:\n",
    "    rek_arn = model_arn.split('/')[0]\n",
    "    project_num = model_arn.split('/')[-1]\n",
    "    project_name = model_arn.split('/')[-4]\n",
    "    project_arn = f\"{rek_arn}/{project_name}/{project_num}\"\n",
    "    version_name = model_arn.split('/')[-2]\n",
    "    ans = {}\n",
    "    ans['project_arn'] = project_arn\n",
    "    ans['version_name'] = version_name\n",
    "    return ans"
   ]
  },
  {
   "cell_type": "code",
   "execution_count": null,
   "id": "c1d2ddcd",
   "metadata": {},
   "outputs": [],
   "source": [
    "# ここにRekognition Custom Labelsの学習済みモデルのARNをコピペしてください\n",
    "MODEL_ARN = \"\"\n",
    "min_inference_units = 1\n",
    "arn_info = get_arns(MODEL_ARN)\n",
    "project_arn = arn_info['project_arn']\n",
    "version_name = arn_info['version_name']\n",
    "start_model(project_arn, MODEL_ARN, version_name, min_inference_units)"
   ]
  },
  {
   "cell_type": "markdown",
   "id": "63e5e889",
   "metadata": {},
   "source": [
    "### モデルの使用"
   ]
  },
  {
   "cell_type": "code",
   "execution_count": null,
   "id": "f869c1e1",
   "metadata": {},
   "outputs": [],
   "source": [
    "#Copyright 2020 Amazon.com, Inc. or its affiliates. All Rights Reserved.\n",
    "#PDX-License-Identifier: MIT-0 (For details, see https://github.com/awsdocs/amazon-rekognition-custom-labels-developer-guide/blob/master/LICENSE-SAMPLECODE.)\n",
    "\n",
    "import boto3\n",
    "import io\n",
    "from PIL import Image, ImageDraw, ExifTags, ImageColor, ImageFont\n",
    "\n",
    "def display_image(bucket: str, photo: str, response: Dict[str, str]) -> None:\n",
    "    # Load image from S3 bucket\n",
    "    s3_connection = boto3.resource('s3')\n",
    "\n",
    "    s3_object = s3_connection.Object(bucket,photo)\n",
    "    s3_response = s3_object.get()\n",
    "\n",
    "    stream = io.BytesIO(s3_response['Body'].read())\n",
    "    image=Image.open(stream)\n",
    "\n",
    "    # Ready image to draw bounding boxes on it.\n",
    "    imgWidth, imgHeight = image.size\n",
    "    draw = ImageDraw.Draw(image)\n",
    "\n",
    "    # calculate and display bounding boxes for each detected custom label\n",
    "    print('Detected custom labels for ' + photo)\n",
    "    for customLabel in response['CustomLabels']:\n",
    "        print('Label ' + str(customLabel['Name']))\n",
    "        print('Confidence ' + str(customLabel['Confidence']))\n",
    "        if 'Geometry' in customLabel:\n",
    "            box = customLabel['Geometry']['BoundingBox']\n",
    "            left = imgWidth * box['Left']\n",
    "            top = imgHeight * box['Top']\n",
    "            width = imgWidth * box['Width']\n",
    "            height = imgHeight * box['Height']\n",
    "\n",
    "            fnt = ImageFont.truetype('/Library/Fonts/Arial.ttf', 50)\n",
    "            draw.text((left,top), customLabel['Name'], fill='#00d400', font=fnt)\n",
    "\n",
    "            print('Left: ' + '{0:.0f}'.format(left))\n",
    "            print('Top: ' + '{0:.0f}'.format(top))\n",
    "            print('Label Width: ' + \"{0:.0f}\".format(width))\n",
    "            print('Label Height: ' + \"{0:.0f}\".format(height))\n",
    "\n",
    "            points = (\n",
    "                (left,top),\n",
    "                (left + width, top),\n",
    "                (left + width, top + height),\n",
    "                (left , top + height),\n",
    "                (left, top))\n",
    "            draw.line(points, fill='#00d400', width=5)\n",
    "\n",
    "    image.show()\n",
    "\n",
    "def show_custom_labels(model: str, bucket: str, photo: str, min_confidence: int) -> Dict[str, str]:\n",
    "    client=boto3.client('rekognition')\n",
    "\n",
    "    # Call DetectCustomLabels\n",
    "    response = client.detect_custom_labels(Image={'S3Object': {'Bucket': bucket, 'Name': photo}},\n",
    "        MinConfidence=min_confidence,\n",
    "        ProjectVersionArn=model)\n",
    "\n",
    "    # For object detection use case, uncomment below code to display image.\n",
    "    display_image(bucket,photo,response)\n",
    "    \n",
    "    # Add an image info for each dict\n",
    "    for d in response['CustomLabels']:\n",
    "        d['image'] = photo\n",
    "        \n",
    "    return response['CustomLabels']"
   ]
  },
  {
   "cell_type": "code",
   "execution_count": null,
   "id": "08e8369e",
   "metadata": {},
   "outputs": [],
   "source": [
    "# テスト画像のURIとラベルを取得\n",
    "import json\n",
    "import os\n",
    "tests = []\n",
    "\n",
    "# この.ipynbファイルと同じフォルダに'testing_manifest_with_validation.json'があると仮定します。適宜変更してください。\n",
    "with open('testing_manifest_with_validation.json', 'r') as f:\n",
    "    for line in f:\n",
    "        tests.append(json.loads(line))"
   ]
  },
  {
   "cell_type": "code",
   "execution_count": null,
   "id": "2fdb3c53",
   "metadata": {
    "scrolled": true
   },
   "outputs": [],
   "source": [
    "tests"
   ]
  },
  {
   "cell_type": "code",
   "execution_count": null,
   "id": "d2de08f4",
   "metadata": {
    "scrolled": true
   },
   "outputs": [],
   "source": [
    "estimations = []\n",
    "\n",
    "for i in range(len(tests)):\n",
    "    # データセットが格納されているS3バケット名を指定してください\n",
    "    BUCKET_NAME = \"\"\n",
    "    photo = '/'.join(tests[i]['source-ref'].split('/')[-2:])\n",
    "    min_confidence=0\n",
    "    \n",
    "    estimations.append(show_custom_labels(MODEL_ARN, BUCKET_NAME, photo, min_confidence))\n",
    "    \n",
    "print(estimations)"
   ]
  },
  {
   "cell_type": "code",
   "execution_count": null,
   "id": "ef0b465f",
   "metadata": {},
   "outputs": [],
   "source": [
    "estimations[0]"
   ]
  },
  {
   "cell_type": "code",
   "execution_count": null,
   "id": "55143b78",
   "metadata": {},
   "outputs": [],
   "source": [
    "# 実運用でも、こちらの関数を使えます。\n",
    "def filter_results(results, thresholds, verbose=1):\n",
    "    '''\n",
    "    results: JSON responses from Rekognition Custom Labels\n",
    "    thresholds: { class_name: string, confidence: float }\n",
    "    verbose: Prints out the progress on stdout\n",
    "    Return filtered responses\n",
    "    '''\n",
    "    '''\n",
    "    RekognitionのAPIレスポンスとあらかじめ定義されたthresholdsから\n",
    "    以下のロジックに従ってあてはまるラベルを１つに定める関数\n",
    "    1. それぞれのラベルに対して、信頼度がthresholdを超えるラベルをマークする\n",
    "    2. どのラベルもthresholdを超えない場合は、専門家の判断を仰ぐ\n",
    "    3. 複数ラベルが該当する場合は、最も信頼度が高いラベルを選ぶ\n",
    "    4. １つのラベルのみが該当する場合は、そのラベルを選ぶ\n",
    "    '''\n",
    "    # １つ目のAPIレスポンスからすべてのラベルクラスを抽出\n",
    "    classes = list(map(lambda x: x['Name'], results[0]))\n",
    "    # ここに予測に当てはまるラベルを１つに決めて貯める。信頼度が低すぎて人の目を通す必要になるものも含む。\n",
    "    labeling_results = []\n",
    "    for result in results:\n",
    "        image_info = result[0]['image']\n",
    "        # このレスポンスに対して、信頼度がthresholdを超えていればflagsでTrueにセットする\n",
    "        flags = {key: False for key in classes}\n",
    "        for label in classes:\n",
    "            # このループは、ラベルを特定するため\n",
    "            for d in result:\n",
    "                if d['Name'] == label:\n",
    "                    if d['Confidence'] > thresholds[label]:\n",
    "                        flags[label] = True\n",
    "        # flagsからTrueになったラベルの数を数える\n",
    "        num_true = sum(flags.values())\n",
    "        if num_true == 0:\n",
    "            # 与えられたThresholdではモデルが判定できない\n",
    "            if verbose >= 1:\n",
    "                print(f\"この画像はうまく判断できません！専門家の判断を仰いでください: {image_info}\")\n",
    "            final_result = {'Name': 'human', 'image': image_info}\n",
    "        elif num_true > 1:\n",
    "            # 複数のラベルが付いている\n",
    "            labels = list(filter(lambda key: flags[key], flags.keys()))\n",
    "            filtered_result = list(filter(lambda x: x['Name'] in labels, result))\n",
    "            final_result = max(filtered_result, key = lambda d: d['Confidence'])\n",
    "        else:\n",
    "            # ラベルが１つだけに定まっている\n",
    "            final_label = list(filter(lambda key: flags[key], flags.keys()))[0]\n",
    "            final_result = list(filter(lambda d: d['Name'] == final_label, result))[0]\n",
    "        labeling_results.append(final_result)\n",
    "        if verbose >= 1:\n",
    "            print(f\"Raw: {result}\\nLabel: {final_result}\\n\\n\")\n",
    "    return labeling_results"
   ]
  },
  {
   "cell_type": "code",
   "execution_count": null,
   "id": "e6db9673",
   "metadata": {
    "scrolled": true
   },
   "outputs": [],
   "source": [
    "thresholds = {'Class A': 50, 'Class B': 50, 'Class C': 50}\n",
    "filter_results(estimations, thresholds)"
   ]
  },
  {
   "cell_type": "markdown",
   "id": "54b02222",
   "metadata": {},
   "source": [
    "## 様々なThresholdsを試して人間が判断する枚数とRekognitionが振り分けた画像のPrecisionのバランスを取る\n",
    "\n",
    "なるべく人間が判断する枚数を減らしつつ、それぞれのクラスに対してのPrecisionが許容できる範囲内に収める"
   ]
  },
  {
   "cell_type": "code",
   "execution_count": null,
   "id": "df46dfdb",
   "metadata": {},
   "outputs": [],
   "source": [
    "# このセルはループが100万回ほど回るため、ある程度時間がかかります。\n",
    "import warnings\n",
    "warnings.filterwarnings('ignore')\n",
    "from sklearn.metrics import precision_recall_fscore_support\n",
    "\n",
    "# type [{'precisions': float[], 'thresh': Treshold, 'human_ratio': float}]\n",
    "analyses = []\n",
    "for a_thresh in range(0, 101):\n",
    "    print(f\"=== {a_thresh}% ===\")\n",
    "    for b_thresh in range(0, 101):\n",
    "        for c_thresh in range(0, 101):\n",
    "            thresh = {'Class A': a_thresh, 'Class B': b_thresh, 'Class C': c_thresh}\n",
    "            labeling_results = filter_results(estimations, thresh, verbose=0)\n",
    "            humans = 0\n",
    "            y_pred = []\n",
    "            y_true = []\n",
    "            for label_obj in labeling_results:\n",
    "                if label_obj['Name'] == \"human\":\n",
    "                    humans += 1\n",
    "                else:\n",
    "                    y_pred.append(label_obj['Name'])\n",
    "                    y_true.append(label_obj['image'].split('/')[0])\n",
    "            human_ratio = humans / len(labeling_results)\n",
    "            precisions, _, _, _ = precision_recall_fscore_support(y_true, y_pred)\n",
    "            analyses.append({'precisions': precisions, 'thresh': thresh, 'human_ratio': human_ratio})"
   ]
  },
  {
   "cell_type": "code",
   "execution_count": null,
   "id": "7a115b6d",
   "metadata": {},
   "outputs": [],
   "source": [
    "# 人間が一切介入しないようにしたらどうなるか\n",
    "analyses[0]"
   ]
  },
  {
   "cell_type": "code",
   "execution_count": null,
   "id": "1eeeb3eb",
   "metadata": {},
   "outputs": [],
   "source": [
    "# フィルタリングの基準を定める関数\n",
    "def criteria(d: Dict, least_precision: float, most_humans: float) -> bool:\n",
    "    return len(d['precisions']) > 0 and min(d['precisions']) >= least_precision and d['human_ratio'] <= most_humans\n",
    "\n",
    "def explore_analysis(least_precision: float, most_humans: float):\n",
    "    from pprint import pprint\n",
    "    result = list(filter(lambda d: criteria(d, least_precision, most_humans), analyses))\n",
    "    print(f\"Precisionが最低でも{least_precision*100}%で人間が判断するのが最大でも{most_humans*100}%になるようなThresholdは{len(result)}個みつかりました。\\n\")\n",
    "    \n",
    "    if len(result) > 0:\n",
    "        best_result = [\n",
    "            # この中でprecisionsの最小値が最大のもの\n",
    "            max(result, key=lambda d: min(d['precisions'])),\n",
    "            # この中で人間への負荷が最小のもの\n",
    "            min(result, key=lambda d: d['human_ratio'])\n",
    "        ]\n",
    "        print(\"この範囲ならこの２つがベストです↓\\n\")\n",
    "        pprint(best_result)\n",
    "    \n",
    "    return result"
   ]
  },
  {
   "cell_type": "code",
   "execution_count": null,
   "id": "7a5a5a20",
   "metadata": {},
   "outputs": [],
   "source": [
    "# 例１: Precisionが最低でも95%で人間が判断するのが最大でも50%になるようなThresholdを探したい！\n",
    "result1 = explore_analysis(0.95, 0.5)"
   ]
  },
  {
   "cell_type": "code",
   "execution_count": null,
   "id": "f8071d27",
   "metadata": {
    "scrolled": true
   },
   "outputs": [],
   "source": [
    "# 例２: Precisionが最低でも85%で人間が判断するのが最大でも25%になるようなThresholdを探したい！\n",
    "result2 = explore_analysis(0.85, 0.25)"
   ]
  },
  {
   "cell_type": "code",
   "execution_count": null,
   "id": "5424c0ab",
   "metadata": {},
   "outputs": [],
   "source": [
    "# 例３: Precisionが最低でも95%で人間が判断するのが最大でも10%になるようなThresholdを探したい！\n",
    "result3 = explore_analysis(0.8, 0.2)"
   ]
  },
  {
   "cell_type": "markdown",
   "id": "ff51ef20",
   "metadata": {},
   "source": [
    "### モデルの停止"
   ]
  },
  {
   "cell_type": "code",
   "execution_count": null,
   "id": "580c6f1c",
   "metadata": {},
   "outputs": [],
   "source": [
    "#Copyright 2020 Amazon.com, Inc. or its affiliates. All Rights Reserved.\n",
    "#PDX-License-Identifier: MIT-0 (For details, see https://github.com/awsdocs/amazon-rekognition-custom-labels-developer-guide/blob/master/LICENSE-SAMPLECODE.)\n",
    "\n",
    "import boto3\n",
    "import time\n",
    "\n",
    "\n",
    "def stop_model(model_arn):\n",
    "\n",
    "    client=boto3.client('rekognition')\n",
    "\n",
    "    print('Stopping model:' + model_arn)\n",
    "\n",
    "    #Stop the model\n",
    "    try:\n",
    "        response=client.stop_project_version(ProjectVersionArn=model_arn)\n",
    "        status=response['Status']\n",
    "        print ('Status: ' + status)\n",
    "    except Exception as e:  \n",
    "        print(e)  \n",
    "\n",
    "    print('Done...')"
   ]
  },
  {
   "cell_type": "code",
   "execution_count": null,
   "id": "c507db3f",
   "metadata": {},
   "outputs": [],
   "source": [
    "stop_model(model_arn)"
   ]
  }
 ],
 "metadata": {
  "kernelspec": {
   "display_name": "conda_python3",
   "language": "python",
   "name": "conda_python3"
  },
  "language_info": {
   "codemirror_mode": {
    "name": "ipython",
    "version": 3
   },
   "file_extension": ".py",
   "mimetype": "text/x-python",
   "name": "python",
   "nbconvert_exporter": "python",
   "pygments_lexer": "ipython3",
   "version": "3.6.13"
  }
 },
 "nbformat": 4,
 "nbformat_minor": 5
}
