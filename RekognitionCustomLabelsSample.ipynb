{
 "cells": [
  {
   "cell_type": "markdown",
   "id": "02286dea",
   "metadata": {},
   "source": [
    "### モデルの開始"
   ]
  },
  {
   "cell_type": "code",
   "execution_count": null,
   "id": "3e63ab7c",
   "metadata": {},
   "outputs": [],
   "source": [
    "#Copyright 2020 Amazon.com, Inc. or its affiliates. All Rights Reserved.\n",
    "#PDX-License-Identifier: MIT-0 (For details, see https://github.com/awsdocs/amazon-rekognition-custom-labels-developer-guide/blob/master/LICENSE-SAMPLECODE.)\n",
    "\n",
    "import boto3\n",
    "from typing import Dict\n",
    "\n",
    "def start_model(project_arn: str, model_arn: str, version_name: str, min_inference_units: int) -> None:\n",
    "\n",
    "    client=boto3.client('rekognition')\n",
    "\n",
    "    try:\n",
    "        # Start the model\n",
    "        print('Starting model: ' + model_arn)\n",
    "        response=client.start_project_version(ProjectVersionArn=model_arn, MinInferenceUnits=min_inference_units)\n",
    "        # Wait for the model to be in the running state\n",
    "        project_version_running_waiter = client.get_waiter('project_version_running')\n",
    "        project_version_running_waiter.wait(ProjectArn=project_arn, VersionNames=[version_name])\n",
    "\n",
    "        #Get the running status\n",
    "        describe_response=client.describe_project_versions(ProjectArn=project_arn,\n",
    "            VersionNames=[version_name])\n",
    "        for model in describe_response['ProjectVersionDescriptions']:\n",
    "            print(\"Status: \" + model['Status'])\n",
    "            print(\"Message: \" + model['StatusMessage']) \n",
    "    except Exception as e:\n",
    "        print(e)\n",
    "        \n",
    "    print('Done...')\n",
    "    \n",
    "def get_arns(model_arn: str) -> Dict[str, str]:\n",
    "    rek_arn = model_arn.split('/')[0]\n",
    "    project_num = model_arn.split('/')[-1]\n",
    "    project_name = model_arn.split('/')[-4]\n",
    "    project_arn = f\"{rek_arn}/{project_name}/{project_num}\"\n",
    "    version_name = model_arn.split('/')[-2]\n",
    "    ans = {}\n",
    "    ans['project_arn'] = project_arn\n",
    "    ans['version_name'] = version_name\n",
    "    return ans"
   ]
  },
  {
   "cell_type": "code",
   "execution_count": null,
   "id": "2336fc13",
   "metadata": {},
   "outputs": [],
   "source": [
    "# ここにRekognition Custom Labelsの学習済みモデルのARNをコピペしてください\n",
    "MODEL_ARN = \"\"\n",
    "min_inference_units = 1\n",
    "arn_info = get_arns(MODEL_ARN)\n",
    "project_arn = arn_info['project_arn']\n",
    "version_name = arn_info['version_name']\n",
    "start_model(project_arn, model_arn, version_name, min_inference_units)"
   ]
  },
  {
   "cell_type": "markdown",
   "id": "c3a61e51",
   "metadata": {},
   "source": [
    "### モデルの使用"
   ]
  },
  {
   "cell_type": "code",
   "execution_count": null,
   "id": "163278aa",
   "metadata": {},
   "outputs": [],
   "source": [
    "#Copyright 2020 Amazon.com, Inc. or its affiliates. All Rights Reserved.\n",
    "#PDX-License-Identifier: MIT-0 (For details, see https://github.com/awsdocs/amazon-rekognition-custom-labels-developer-guide/blob/master/LICENSE-SAMPLECODE.)\n",
    "\n",
    "import boto3\n",
    "import io\n",
    "from PIL import Image, ImageDraw, ExifTags, ImageColor, ImageFont\n",
    "\n",
    "def display_image(bucket: str, photo: str, response: Dict[str, str]) -> None:\n",
    "    # Load image from S3 bucket\n",
    "    s3_connection = boto3.resource('s3')\n",
    "\n",
    "    s3_object = s3_connection.Object(bucket,photo)\n",
    "    s3_response = s3_object.get()\n",
    "\n",
    "    stream = io.BytesIO(s3_response['Body'].read())\n",
    "    image=Image.open(stream)\n",
    "\n",
    "    # Ready image to draw bounding boxes on it.\n",
    "    imgWidth, imgHeight = image.size\n",
    "    draw = ImageDraw.Draw(image)\n",
    "\n",
    "    # calculate and display bounding boxes for each detected custom label\n",
    "    print('Detected custom labels for ' + photo)\n",
    "    for customLabel in response['CustomLabels']:\n",
    "        print('Label ' + str(customLabel['Name']))\n",
    "        print('Confidence ' + str(customLabel['Confidence']))\n",
    "        if 'Geometry' in customLabel:\n",
    "            box = customLabel['Geometry']['BoundingBox']\n",
    "            left = imgWidth * box['Left']\n",
    "            top = imgHeight * box['Top']\n",
    "            width = imgWidth * box['Width']\n",
    "            height = imgHeight * box['Height']\n",
    "\n",
    "            fnt = ImageFont.truetype('/Library/Fonts/Arial.ttf', 50)\n",
    "            draw.text((left,top), customLabel['Name'], fill='#00d400', font=fnt)\n",
    "\n",
    "            print('Left: ' + '{0:.0f}'.format(left))\n",
    "            print('Top: ' + '{0:.0f}'.format(top))\n",
    "            print('Label Width: ' + \"{0:.0f}\".format(width))\n",
    "            print('Label Height: ' + \"{0:.0f}\".format(height))\n",
    "\n",
    "            points = (\n",
    "                (left,top),\n",
    "                (left + width, top),\n",
    "                (left + width, top + height),\n",
    "                (left , top + height),\n",
    "                (left, top))\n",
    "            draw.line(points, fill='#00d400', width=5)\n",
    "\n",
    "    image.show()\n",
    "\n",
    "def show_custom_labels(model: str, bucket: str, photo: str, min_confidence: int) -> Dict[str, str]:\n",
    "    client=boto3.client('rekognition')\n",
    "\n",
    "    # Call DetectCustomLabels\n",
    "    response = client.detect_custom_labels(Image={'S3Object': {'Bucket': bucket, 'Name': photo}},\n",
    "        MinConfidence=min_confidence,\n",
    "        ProjectVersionArn=model)\n",
    "\n",
    "    # For object detection use case, uncomment below code to display image.\n",
    "    display_image(bucket,photo,response)\n",
    "    \n",
    "    # Add an image info for each dict\n",
    "    for d in response['CustomLabels']:\n",
    "        d['image'] = photo\n",
    "        \n",
    "    return response['CustomLabels']"
   ]
  },
  {
   "cell_type": "code",
   "execution_count": null,
   "id": "414a98fd",
   "metadata": {},
   "outputs": [],
   "source": [
    "# テスト画像のURIとラベルを取得\n",
    "import json\n",
    "import os \n",
    "tests = []\n",
    "\n",
    "# この.ipynbファイルと同じフォルダに'testing_manifest_with_validation.json'があると仮定します。適宜変更してください。\n",
    "with open('testing_manifest_with_validation.json', 'r') as f:\n",
    "    for line in f:\n",
    "        tests.append(json.loads(line))"
   ]
  },
  {
   "cell_type": "code",
   "execution_count": null,
   "id": "85b39096",
   "metadata": {
    "scrolled": true
   },
   "outputs": [],
   "source": [
    "tests"
   ]
  },
  {
   "cell_type": "code",
   "execution_count": null,
   "id": "cc23219c",
   "metadata": {
    "scrolled": true
   },
   "outputs": [],
   "source": [
    "estimations = []\n",
    "\n",
    "for i in range(len(tests)):\n",
    "    # データセットが格納されているS3バケット名を指定してください\n",
    "    bucket = ''\n",
    "    photo = '/'.join(tests[i]['source-ref'].split('/')[-2:])\n",
    "    model = model_arn\n",
    "    min_confidence=0.1\n",
    "    \n",
    "    estimations.append(show_custom_labels(model,bucket,photo, min_confidence))\n",
    "    \n",
    "print(estimations)"
   ]
  },
  {
   "cell_type": "code",
   "execution_count": null,
   "id": "d2752360",
   "metadata": {},
   "outputs": [],
   "source": [
    "classes = list(map(lambda x: x['Name'], estimations[0]))\n",
    "flags = {key: False for key in classes}\n",
    "flags"
   ]
  },
  {
   "cell_type": "code",
   "execution_count": null,
   "id": "f3904d9a",
   "metadata": {},
   "outputs": [],
   "source": [
    "flags = {'Class C': True, 'Class A': False, 'Class B': True}\n",
    "sum(flags.values())"
   ]
  },
  {
   "cell_type": "code",
   "execution_count": null,
   "id": "4d8c8c33",
   "metadata": {},
   "outputs": [],
   "source": [
    "labels = list(filter(lambda key: flags[key], flags.keys()))\n",
    "labels"
   ]
  },
  {
   "cell_type": "code",
   "execution_count": null,
   "id": "9e3a07b5",
   "metadata": {},
   "outputs": [],
   "source": [
    "est = estimations[0]\n",
    "est"
   ]
  },
  {
   "cell_type": "code",
   "execution_count": null,
   "id": "1ab102d8",
   "metadata": {},
   "outputs": [],
   "source": [
    "list(filter(lambda x: x['Name'] in labels, est))"
   ]
  },
  {
   "cell_type": "code",
   "execution_count": null,
   "id": "28cce3b2",
   "metadata": {},
   "outputs": [],
   "source": [
    "max(est, key = lambda d: d['Confidence'])"
   ]
  },
  {
   "cell_type": "code",
   "execution_count": null,
   "id": "a729b3f9",
   "metadata": {},
   "outputs": [],
   "source": [
    "def filter_results(results, thresholds, verbose=1):\n",
    "    '''\n",
    "    results: JSON responses from Rekognition Custom Labels\n",
    "    thresholds: { class_name: string, confidence: float }\n",
    "    verbose: Prints out the progress on stdout\n",
    "    Return recall\n",
    "    '''\n",
    "    '''\n",
    "    RekognitionのAPIレスポンスとあらかじめ定義されたthresholdsから\n",
    "    以下のロジックに従ってあてはまるラベルを１つに定める関数\n",
    "    1. それぞれのラベルに対して、信頼度がthresholdを超えるラベルをマークする\n",
    "    2. どのラベルもthresholdを超えない場合は、専門家の判断を仰ぐ\n",
    "    3. 複数ラベルが該当する場合は、最も信頼度が高いラベルを選ぶ\n",
    "    4. １つのラベルのみが該当する場合は、そのラベルを選ぶ\n",
    "    '''\n",
    "    # １つ目のAPIレスポンスからすべてのラベルクラスを抽出\n",
    "    classes = list(map(lambda x: x['Name'], results[0]))\n",
    "    # ここに予測に当てはまるラベルを１つに決めて貯める。信頼度が低すぎてエラーになるものも含む。\n",
    "    labeling_results = []\n",
    "    for result in results:\n",
    "        image_info = result[0]['image']\n",
    "        # このレスポンスに対して、信頼度がthresholdを超えていればflagsでTrueにセットする\n",
    "        flags = {key: False for key in classes}\n",
    "        for label in classes:\n",
    "            # このループは、ラベルを特定するため（\n",
    "            for d in result:\n",
    "                if d['Name'] == label:\n",
    "                    if d['Confidence'] > thresholds[label]:\n",
    "                        flags[label] = True\n",
    "        # flagsからTrueになったラベルの数を数える\n",
    "        num_true = sum(flags.values())\n",
    "        if num_true == 0:\n",
    "            # 与えられたThresholdではモデルが判定できない\n",
    "            if verbose >= 1:\n",
    "                print(f\"この画像はうまく判断できません！専門家の判断を仰いでください: {image_info}\")\n",
    "            final_result = {'Name': 'error', 'image': image_info}\n",
    "        elif num_true > 1:\n",
    "            # 複数のラベルが付いている\n",
    "            labels = list(filter(lambda key: flags[key], flags.keys()))\n",
    "            filtered_result = list(filter(lambda x: x['Name'] in labels, result))\n",
    "            final_result = max(filtered_result, key = lambda d: d['Confidence'])\n",
    "        else:\n",
    "            # ラベルが１つだけに定まっている\n",
    "            final_label = list(filter(lambda key: flags[key], flags.keys()))[0]\n",
    "            final_result = list(filter(lambda d: d['Name'] == final_label, result))[0]\n",
    "        labeling_results.append(final_result)\n",
    "        if verbose >= 1:\n",
    "            print(f\"Raw: {result}\\nLabel: {final_result}\\n\\n\")\n",
    "    return labeling_results"
   ]
  },
  {
   "cell_type": "code",
   "execution_count": null,
   "id": "484f7182",
   "metadata": {},
   "outputs": [],
   "source": [
    "def analyze_labeling_results(labeling_results):"
   ]
  },
  {
   "cell_type": "code",
   "execution_count": null,
   "id": "bf00c48a",
   "metadata": {
    "scrolled": true
   },
   "outputs": [],
   "source": [
    "thresholds = {'Class A': 50, 'Class B': 50, 'Class C': 50}\n",
    "filter_results(estimations, thresholds)"
   ]
  },
  {
   "cell_type": "markdown",
   "id": "a55ecb55",
   "metadata": {},
   "source": [
    "## 様々なThresholdsを試して人間が判断する枚数とRecall/Precisionのバランスを取る\n"
   ]
  },
  {
   "cell_type": "code",
   "execution_count": null,
   "id": "0c5934ac",
   "metadata": {},
   "outputs": [],
   "source": [
    "for a_thresh in range(0, 101):\n",
    "    for b_thresh in range(0, 101):\n",
    "        for c_threh in range(0, 101):\n",
    "            thresh = {'Class A': a_thresh, 'Class B': b_thresh, 'Class C': c_thresh}\n",
    "            labeling_results = filter_results(estimations, thresh, verbose=0)\n",
    "            "
   ]
  },
  {
   "cell_type": "code",
   "execution_count": null,
   "id": "0c57a63e",
   "metadata": {},
   "outputs": [],
   "source": [
    "thresholds = {'cat' : 10, 'dog' : 20}\n",
    "labeling_results = []\n",
    "\n",
    "for i in range(len(estimations)):\n",
    "    cat_flag = False\n",
    "    dog_flag = False\n",
    "    \n",
    "    if estimations[i][0]['Confidence'] > thresholds['cat']:\n",
    "        cat_flag = True\n",
    "    \n",
    "    if estimations[i][1]['Confidence'] > thresholds['dog']:\n",
    "        dog_flag = True\n",
    "    \n",
    "    # 両方ともFalse, もしくは両方ともTrueだった場合、Confidenceの小さい方をFalseにする\n",
    "    if not(cat_flag ^ dog_flag):\n",
    "        if estimations[i][0]['Confidence'] > estimations[i][1]['Confidence']:\n",
    "            dog_flag = False\n",
    "        else:\n",
    "            cat_flag = False\n",
    "            \n",
    "    if cat_flag:\n",
    "        labeling_results.append('cat')\n",
    "    else:\n",
    "        labeling_results.append('dog')"
   ]
  },
  {
   "cell_type": "code",
   "execution_count": null,
   "id": "45628738",
   "metadata": {},
   "outputs": [],
   "source": [
    "labeling_results"
   ]
  },
  {
   "cell_type": "markdown",
   "id": "a28e9b69",
   "metadata": {},
   "source": [
    "### 集計"
   ]
  },
  {
   "cell_type": "code",
   "execution_count": null,
   "id": "7de10696",
   "metadata": {},
   "outputs": [],
   "source": [
    "tp, fn, fp, tn = 0, 0, 0, 0\n",
    "target = 'cat'\n",
    "\n",
    "for i in range(len(tests)):\n",
    "    if tests[i]['auto-label-metadata']['class-name'] == target:\n",
    "        if labeling_results[i] == target:\n",
    "            tp+=1\n",
    "        else:\n",
    "            fn+=1\n",
    "    else:\n",
    "        if labeling_results[i] == target:\n",
    "            fp+=1\n",
    "        else:\n",
    "            tn+=1"
   ]
  },
  {
   "cell_type": "code",
   "execution_count": null,
   "id": "761b5702",
   "metadata": {},
   "outputs": [],
   "source": [
    "print(tp)\n",
    "print(fn)\n",
    "print(fp)\n",
    "print(tn)"
   ]
  },
  {
   "cell_type": "code",
   "execution_count": null,
   "id": "deb4ff2e",
   "metadata": {},
   "outputs": [],
   "source": [
    "if tp+fp:\n",
    "    precision = tp / (tp+fp)\n",
    "else:\n",
    "    precision = 0\n",
    "print(precision)\n",
    "\n",
    "if tp+fn:\n",
    "    recall = tp/(tp+fn)\n",
    "else:\n",
    "    recall = 0\n",
    "print(recall)"
   ]
  },
  {
   "cell_type": "markdown",
   "id": "ef9e7bbc",
   "metadata": {},
   "source": [
    "### モデルの停止"
   ]
  },
  {
   "cell_type": "code",
   "execution_count": null,
   "id": "d01a8561",
   "metadata": {},
   "outputs": [],
   "source": [
    "#Copyright 2020 Amazon.com, Inc. or its affiliates. All Rights Reserved.\n",
    "#PDX-License-Identifier: MIT-0 (For details, see https://github.com/awsdocs/amazon-rekognition-custom-labels-developer-guide/blob/master/LICENSE-SAMPLECODE.)\n",
    "\n",
    "import boto3\n",
    "import time\n",
    "\n",
    "\n",
    "def stop_model(model_arn):\n",
    "\n",
    "    client=boto3.client('rekognition')\n",
    "\n",
    "    print('Stopping model:' + model_arn)\n",
    "\n",
    "    #Stop the model\n",
    "    try:\n",
    "        response=client.stop_project_version(ProjectVersionArn=model_arn)\n",
    "        status=response['Status']\n",
    "        print ('Status: ' + status)\n",
    "    except Exception as e:  \n",
    "        print(e)  \n",
    "\n",
    "    print('Done...')\n",
    "    \n",
    "def main():\n",
    "    \n",
    "    model_arn='arn:aws:rekognition:us-east-1:876805885354:project/Anamal/version/Anamal.2021-11-24T15.16.50/1637734610883'\n",
    "    stop_model(model_arn)\n",
    "\n",
    "if __name__ == \"__main__\":\n",
    "    main() "
   ]
  },
  {
   "cell_type": "code",
   "execution_count": null,
   "id": "1af56b2b",
   "metadata": {},
   "outputs": [],
   "source": []
  }
 ],
 "metadata": {
  "kernelspec": {
   "display_name": "conda_python3",
   "language": "python",
   "name": "conda_python3"
  },
  "language_info": {
   "codemirror_mode": {
    "name": "ipython",
    "version": 3
   },
   "file_extension": ".py",
   "mimetype": "text/x-python",
   "name": "python",
   "nbconvert_exporter": "python",
   "pygments_lexer": "ipython3",
   "version": "3.6.13"
  }
 },
 "nbformat": 4,
 "nbformat_minor": 5
}
